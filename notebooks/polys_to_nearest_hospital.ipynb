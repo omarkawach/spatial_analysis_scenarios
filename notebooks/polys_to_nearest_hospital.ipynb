{
 "metadata": {
  "language_info": {
   "codemirror_mode": {
    "name": "ipython",
    "version": 3
   },
   "file_extension": ".py",
   "mimetype": "text/x-python",
   "name": "python",
   "nbconvert_exporter": "python",
   "pygments_lexer": "ipython3",
   "version": "3.8.3-final"
  },
  "orig_nbformat": 2,
  "kernelspec": {
   "name": "Python 3.8.3 64-bit ('base': conda)",
   "display_name": "Python 3.8.3 64-bit ('base': conda)",
   "metadata": {
    "interpreter": {
     "hash": "b531f40ce2e81442b97bade9c484a982e16ff92c8d1acfebeaa1e125a16a76ad"
    }
   }
  }
 },
 "nbformat": 4,
 "nbformat_minor": 2,
 "cells": [
  {
   "cell_type": "code",
   "execution_count": 3,
   "metadata": {},
   "outputs": [],
   "source": [
    "# This notebook is similar to scenario_python_files/hospitals_to_polygons_advanced.py \n",
    "# But instead focuses on visualization\n",
    "# Import packages\n",
    "import geopandas as gpd\n",
    "import matplotlib.pyplot as plt\n",
    "from shapely.geometry import Point"
   ]
  },
  {
   "cell_type": "code",
   "execution_count": 4,
   "metadata": {},
   "outputs": [
    {
     "output_type": "execute_result",
     "data": {
      "text/plain": [
       "   ODBPERCAP  FID  OBJECTID     DAUID DACODE    ADAUID ADACODE       CTUID  \\\n",
       "0   0.411451    1       870  35060467   0467  35060147    0147  5050133.00   \n",
       "1   0.392857    2       871  35060468   0468  35060147    0147  5050133.00   \n",
       "2   0.015569    3       872  35060469   0469  35060147    0147  5050133.00   \n",
       "3   0.499208    4       873  35060471   0471  35060066    0066  5050023.01   \n",
       "4   0.616307    5       895  35060500   0500  35060146    0146  5050135.03   \n",
       "\n",
       "    CTNAME CTCODE  ... TOT_DWELL OCCUPYDWEL     SHAPE_AREA    SHAPE_LEN  \\\n",
       "0  0133.00   0912  ...       230        222  411415.736854  2805.863730   \n",
       "1  0133.00   0912  ...       306        267  556450.794920  4296.336892   \n",
       "2  0133.00   0912  ...       527        404   53812.063451  1001.817397   \n",
       "3  0023.01   1182  ...       258        255  183277.475812  1908.260159   \n",
       "4  0135.03   3227  ...       177        170  230781.327461  3036.703811   \n",
       "\n",
       "     Shape__Are   Shape__Len NUM_N_UEEN NUM_N_ROOK     SC  \\\n",
       "0  8.329520e+05  3992.945025        5.0        5.0  309.0   \n",
       "1  1.126800e+06  6113.167211       10.0        8.0  297.0   \n",
       "2  1.089756e+05  1425.718008        3.0        2.0   13.0   \n",
       "3  3.712089e+05  2716.894090        6.0        5.0  315.0   \n",
       "4  4.669546e+05  4318.914118        5.0        5.0  257.0   \n",
       "\n",
       "                                            geometry  \n",
       "0  POLYGON ((-75.75582 45.35092, -75.75309 45.348...  \n",
       "1  POLYGON ((-75.74546 45.35233, -75.74768 45.351...  \n",
       "2  POLYGON ((-75.75225 45.35312, -75.75242 45.353...  \n",
       "3  POLYGON ((-75.75559 45.35955, -75.75543 45.359...  \n",
       "4  POLYGON ((-75.75178 45.33149, -75.75141 45.330...  \n",
       "\n",
       "[5 rows x 52 columns]"
      ],
      "text/html": "<div>\n<style scoped>\n    .dataframe tbody tr th:only-of-type {\n        vertical-align: middle;\n    }\n\n    .dataframe tbody tr th {\n        vertical-align: top;\n    }\n\n    .dataframe thead th {\n        text-align: right;\n    }\n</style>\n<table border=\"1\" class=\"dataframe\">\n  <thead>\n    <tr style=\"text-align: right;\">\n      <th></th>\n      <th>ODBPERCAP</th>\n      <th>FID</th>\n      <th>OBJECTID</th>\n      <th>DAUID</th>\n      <th>DACODE</th>\n      <th>ADAUID</th>\n      <th>ADACODE</th>\n      <th>CTUID</th>\n      <th>CTNAME</th>\n      <th>CTCODE</th>\n      <th>...</th>\n      <th>TOT_DWELL</th>\n      <th>OCCUPYDWEL</th>\n      <th>SHAPE_AREA</th>\n      <th>SHAPE_LEN</th>\n      <th>Shape__Are</th>\n      <th>Shape__Len</th>\n      <th>NUM_N_UEEN</th>\n      <th>NUM_N_ROOK</th>\n      <th>SC</th>\n      <th>geometry</th>\n    </tr>\n  </thead>\n  <tbody>\n    <tr>\n      <th>0</th>\n      <td>0.411451</td>\n      <td>1</td>\n      <td>870</td>\n      <td>35060467</td>\n      <td>0467</td>\n      <td>35060147</td>\n      <td>0147</td>\n      <td>5050133.00</td>\n      <td>0133.00</td>\n      <td>0912</td>\n      <td>...</td>\n      <td>230</td>\n      <td>222</td>\n      <td>411415.736854</td>\n      <td>2805.863730</td>\n      <td>8.329520e+05</td>\n      <td>3992.945025</td>\n      <td>5.0</td>\n      <td>5.0</td>\n      <td>309.0</td>\n      <td>POLYGON ((-75.75582 45.35092, -75.75309 45.348...</td>\n    </tr>\n    <tr>\n      <th>1</th>\n      <td>0.392857</td>\n      <td>2</td>\n      <td>871</td>\n      <td>35060468</td>\n      <td>0468</td>\n      <td>35060147</td>\n      <td>0147</td>\n      <td>5050133.00</td>\n      <td>0133.00</td>\n      <td>0912</td>\n      <td>...</td>\n      <td>306</td>\n      <td>267</td>\n      <td>556450.794920</td>\n      <td>4296.336892</td>\n      <td>1.126800e+06</td>\n      <td>6113.167211</td>\n      <td>10.0</td>\n      <td>8.0</td>\n      <td>297.0</td>\n      <td>POLYGON ((-75.74546 45.35233, -75.74768 45.351...</td>\n    </tr>\n    <tr>\n      <th>2</th>\n      <td>0.015569</td>\n      <td>3</td>\n      <td>872</td>\n      <td>35060469</td>\n      <td>0469</td>\n      <td>35060147</td>\n      <td>0147</td>\n      <td>5050133.00</td>\n      <td>0133.00</td>\n      <td>0912</td>\n      <td>...</td>\n      <td>527</td>\n      <td>404</td>\n      <td>53812.063451</td>\n      <td>1001.817397</td>\n      <td>1.089756e+05</td>\n      <td>1425.718008</td>\n      <td>3.0</td>\n      <td>2.0</td>\n      <td>13.0</td>\n      <td>POLYGON ((-75.75225 45.35312, -75.75242 45.353...</td>\n    </tr>\n    <tr>\n      <th>3</th>\n      <td>0.499208</td>\n      <td>4</td>\n      <td>873</td>\n      <td>35060471</td>\n      <td>0471</td>\n      <td>35060066</td>\n      <td>0066</td>\n      <td>5050023.01</td>\n      <td>0023.01</td>\n      <td>1182</td>\n      <td>...</td>\n      <td>258</td>\n      <td>255</td>\n      <td>183277.475812</td>\n      <td>1908.260159</td>\n      <td>3.712089e+05</td>\n      <td>2716.894090</td>\n      <td>6.0</td>\n      <td>5.0</td>\n      <td>315.0</td>\n      <td>POLYGON ((-75.75559 45.35955, -75.75543 45.359...</td>\n    </tr>\n    <tr>\n      <th>4</th>\n      <td>0.616307</td>\n      <td>5</td>\n      <td>895</td>\n      <td>35060500</td>\n      <td>0500</td>\n      <td>35060146</td>\n      <td>0146</td>\n      <td>5050135.03</td>\n      <td>0135.03</td>\n      <td>3227</td>\n      <td>...</td>\n      <td>177</td>\n      <td>170</td>\n      <td>230781.327461</td>\n      <td>3036.703811</td>\n      <td>4.669546e+05</td>\n      <td>4318.914118</td>\n      <td>5.0</td>\n      <td>5.0</td>\n      <td>257.0</td>\n      <td>POLYGON ((-75.75178 45.33149, -75.75141 45.330...</td>\n    </tr>\n  </tbody>\n</table>\n<p>5 rows × 52 columns</p>\n</div>"
     },
     "metadata": {},
     "execution_count": 4
    }
   ],
   "source": [
    "# Load data\n",
    "# Change neigjbourhoods file\n",
    "neighbourhoods = gpd.read_file(\"../shapefiles/OttawaDA/OttawaDA.shp\")\n",
    "neighbourhoods.head()"
   ]
  },
  {
   "cell_type": "code",
   "execution_count": 5,
   "metadata": {},
   "outputs": [
    {
     "output_type": "execute_result",
     "data": {
      "text/plain": [
       "   OBJECTID  ID                                    NAME               ADDRESS  \\\n",
       "0         1   1                   Royal Ottawa Hospital   1145 Carling Avenue   \n",
       "1         2   2          Ottawa Hospital - Civic Campus   1053 Carling Avenue   \n",
       "2         3   3      Ottawa Hospital - Riverside Campus  1967 Riverside Drive   \n",
       "3         4   4  Children's Hospital of Eastern Ontario        401 Smyth Road   \n",
       "4         5   5        Ottawa Hospital - General Campus        501 Smyth Road   \n",
       "\n",
       "      PHONE LINK_LABEL                            LINK_EN LINK_DESCR  \\\n",
       "0  722-6521       None            http://www.theroyal.ca/       None   \n",
       "1  761-4000       None  https://www.ottawahospital.on.ca/       None   \n",
       "2  738-7100       None  https://www.ottawahospital.on.ca/       None   \n",
       "3  737-7600       None             http://www.cheo.on.ca/       None   \n",
       "4  737-7777       None  https://www.ottawahospital.on.ca/       None   \n",
       "\n",
       "  LINK_LAB_1                            LINK_FR  \\\n",
       "0       None             http://www.leroyal.ca/   \n",
       "1       None  https://www.ottawahospital.on.ca/   \n",
       "2       None  https://www.ottawahospital.on.ca/   \n",
       "3       None      http://www.cheo.on.ca/fr/home   \n",
       "4       None  https://www.ottawahospital.on.ca/   \n",
       "\n",
       "                                 GLOBALID                 ADDRESS_FR  \\\n",
       "0  {E279DD71-C8D3-4C76-B317-1ACF4DB9281A}       1145, avenue Carling   \n",
       "1  {C1661EEA-B6C5-4C11-9789-E5353940777A}       1053, avenue Carling   \n",
       "2  {7A30AEC4-D042-41D6-9CF1-D06F6202137F}  1967, promenade Riverside   \n",
       "3  {93E3EACA-FB11-49E9-A914-0D5E8B5CBF7B}          401, chemin Smyth   \n",
       "4  {CC861544-A63C-4A64-89DA-65BC7274827E}          501, chemin Smyth   \n",
       "\n",
       "                                             NAME_FR  \\\n",
       "0                               Hôpital Royal Ottawa   \n",
       "1                    Hôpital d’Ottawa – Campus Civic   \n",
       "2                 Hôpital d’Ottawa, campus Riverside   \n",
       "3  Centre hospitalier pour enfants de l'est de l'Ont   \n",
       "4                  Hôpital d’Ottawa – Campus Général   \n",
       "\n",
       "                               geometry  \n",
       "0  POINT Z (-75.73236 45.38809 0.00000)  \n",
       "1  POINT Z (-75.72121 45.39267 0.00000)  \n",
       "2  POINT Z (-75.66794 45.39675 0.00000)  \n",
       "3  POINT Z (-75.65192 45.40102 0.00000)  \n",
       "4  POINT Z (-75.64764 45.40099 0.00000)  "
      ],
      "text/html": "<div>\n<style scoped>\n    .dataframe tbody tr th:only-of-type {\n        vertical-align: middle;\n    }\n\n    .dataframe tbody tr th {\n        vertical-align: top;\n    }\n\n    .dataframe thead th {\n        text-align: right;\n    }\n</style>\n<table border=\"1\" class=\"dataframe\">\n  <thead>\n    <tr style=\"text-align: right;\">\n      <th></th>\n      <th>OBJECTID</th>\n      <th>ID</th>\n      <th>NAME</th>\n      <th>ADDRESS</th>\n      <th>PHONE</th>\n      <th>LINK_LABEL</th>\n      <th>LINK_EN</th>\n      <th>LINK_DESCR</th>\n      <th>LINK_LAB_1</th>\n      <th>LINK_FR</th>\n      <th>GLOBALID</th>\n      <th>ADDRESS_FR</th>\n      <th>NAME_FR</th>\n      <th>geometry</th>\n    </tr>\n  </thead>\n  <tbody>\n    <tr>\n      <th>0</th>\n      <td>1</td>\n      <td>1</td>\n      <td>Royal Ottawa Hospital</td>\n      <td>1145 Carling Avenue</td>\n      <td>722-6521</td>\n      <td>None</td>\n      <td>http://www.theroyal.ca/</td>\n      <td>None</td>\n      <td>None</td>\n      <td>http://www.leroyal.ca/</td>\n      <td>{E279DD71-C8D3-4C76-B317-1ACF4DB9281A}</td>\n      <td>1145, avenue Carling</td>\n      <td>Hôpital Royal Ottawa</td>\n      <td>POINT Z (-75.73236 45.38809 0.00000)</td>\n    </tr>\n    <tr>\n      <th>1</th>\n      <td>2</td>\n      <td>2</td>\n      <td>Ottawa Hospital - Civic Campus</td>\n      <td>1053 Carling Avenue</td>\n      <td>761-4000</td>\n      <td>None</td>\n      <td>https://www.ottawahospital.on.ca/</td>\n      <td>None</td>\n      <td>None</td>\n      <td>https://www.ottawahospital.on.ca/</td>\n      <td>{C1661EEA-B6C5-4C11-9789-E5353940777A}</td>\n      <td>1053, avenue Carling</td>\n      <td>Hôpital d’Ottawa – Campus Civic</td>\n      <td>POINT Z (-75.72121 45.39267 0.00000)</td>\n    </tr>\n    <tr>\n      <th>2</th>\n      <td>3</td>\n      <td>3</td>\n      <td>Ottawa Hospital - Riverside Campus</td>\n      <td>1967 Riverside Drive</td>\n      <td>738-7100</td>\n      <td>None</td>\n      <td>https://www.ottawahospital.on.ca/</td>\n      <td>None</td>\n      <td>None</td>\n      <td>https://www.ottawahospital.on.ca/</td>\n      <td>{7A30AEC4-D042-41D6-9CF1-D06F6202137F}</td>\n      <td>1967, promenade Riverside</td>\n      <td>Hôpital d’Ottawa, campus Riverside</td>\n      <td>POINT Z (-75.66794 45.39675 0.00000)</td>\n    </tr>\n    <tr>\n      <th>3</th>\n      <td>4</td>\n      <td>4</td>\n      <td>Children's Hospital of Eastern Ontario</td>\n      <td>401 Smyth Road</td>\n      <td>737-7600</td>\n      <td>None</td>\n      <td>http://www.cheo.on.ca/</td>\n      <td>None</td>\n      <td>None</td>\n      <td>http://www.cheo.on.ca/fr/home</td>\n      <td>{93E3EACA-FB11-49E9-A914-0D5E8B5CBF7B}</td>\n      <td>401, chemin Smyth</td>\n      <td>Centre hospitalier pour enfants de l'est de l'Ont</td>\n      <td>POINT Z (-75.65192 45.40102 0.00000)</td>\n    </tr>\n    <tr>\n      <th>4</th>\n      <td>5</td>\n      <td>5</td>\n      <td>Ottawa Hospital - General Campus</td>\n      <td>501 Smyth Road</td>\n      <td>737-7777</td>\n      <td>None</td>\n      <td>https://www.ottawahospital.on.ca/</td>\n      <td>None</td>\n      <td>None</td>\n      <td>https://www.ottawahospital.on.ca/</td>\n      <td>{CC861544-A63C-4A64-89DA-65BC7274827E}</td>\n      <td>501, chemin Smyth</td>\n      <td>Hôpital d’Ottawa – Campus Général</td>\n      <td>POINT Z (-75.64764 45.40099 0.00000)</td>\n    </tr>\n  </tbody>\n</table>\n</div>"
     },
     "metadata": {},
     "execution_count": 5
    }
   ],
   "source": [
    "# Load data\n",
    "hospitals = gpd.read_file(\"../shapefiles/OttawaHospitals/Hospitals.shp\")\n",
    "hospitals.head()"
   ]
  },
  {
   "cell_type": "code",
   "execution_count": 6,
   "metadata": {},
   "outputs": [],
   "source": [
    "# Quick brute force approach. Not the most efficient code, but it gets the job done...\n",
    "# May take a few minutes to run\n",
    "closest_hospitals = []\n",
    "\n",
    "# Check each neighbourhood (all 761)\n",
    "for n in neighbourhoods.DAUID:\n",
    "    # Set the closest distance to -1\n",
    "    closest = -1;\n",
    "    # Closest hospital is an empty string\n",
    "    close_h = \"\"\n",
    "    \n",
    "    # Best to use this CRS when dealing with distance\n",
    "    nx = neighbourhoods[neighbourhoods.DAUID == n].to_crs(epsg=3857)\n",
    "    \n",
    "    # Find the center of the polygon \n",
    "    n_lon = nx.geometry.centroid.x.iloc[0]\n",
    "    n_lat = nx.geometry.centroid.y.iloc[0]\n",
    "    \n",
    "    # Save the coordinates into a GeoSeries\n",
    "    nx = gpd.GeoSeries([Point(n_lon, n_lat)])\n",
    "            \n",
    "    # Check each hospital (all 10)\n",
    "    for h in hospitals.NAME:\n",
    "\n",
    "        # Best to use this CRS when dealing with distance\n",
    "        hx = hospitals[hospitals.NAME == h].to_crs(epsg=3857)\n",
    "        \n",
    "        # Find the center of the polygon \n",
    "        h_lon = hx.geometry.centroid.x.iloc[0]\n",
    "        h_lat = hx.geometry.centroid.y.iloc[0]\n",
    "        \n",
    "        # Save the coordinates into a GeoSeries\n",
    "        hx = gpd.GeoSeries([Point(h_lon, h_lat)])\n",
    "\n",
    "        # Calculate the distance between the hospital and the neighbourhood     \n",
    "        dist = hx.distance(nx) # Distance will be in meters\n",
    "        \n",
    "        # Find the closest distance\n",
    "        if(closest <= 0 or dist[0] <= closest):\n",
    "            closest = dist[0] # New closest distance\n",
    "            closest_h = h # New closest hospital\n",
    "\n",
    "    # Save the data [ONS polygon, closest hospital, distance in km]       \n",
    "    closest_hospitals.append([n, closest_h, round(closest/1000, 2)])\n",
    "\n",
    "h = {hospitals.NAME[0]: 'red', # Royal Ottawa Hospital\n",
    "     hospitals.NAME[1]: 'blue', # Ottawa Hospital - Civic Campus\n",
    "     hospitals.NAME[2]: 'black', # Ottawa Hospital - Riverside Campus\n",
    "     hospitals.NAME[3]: 'orange', # CHEO\n",
    "     hospitals.NAME[4]: 'purple', # Ottawa Hospital - General Campus\n",
    "     hospitals.NAME[5]: 'brown', # Montfort Hospital\n",
    "     hospitals.NAME[6]: 'yellow', # Queensway-Carleton Hospital\n",
    "     hospitals.NAME[7]: 'green', # Rehab Center\n",
    "     hospitals.NAME[8]: 'gray', # Saint Vincent Hospital\n",
    "     hospitals.NAME[9]: 'pink'} # Elizabeth Bruyere Hospital\n",
    "\n",
    "fig, ax = plt.subplots()\n",
    "neighbourhoods.plot(ax=ax, facecolor='gray');\n",
    "# Color the polygoons based on the hospital in them\n",
    "for ch in closest_hospitals:\n",
    "    nx = neighbourhoods[neighbourhoods.DAUID == ch[0]]\n",
    "    nx.plot(ax=ax, facecolor=h[ch[1]])\n",
    "plt.tight_layout();"
   ]
  }
 ]
}