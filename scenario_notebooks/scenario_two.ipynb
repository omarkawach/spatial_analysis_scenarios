{
 "metadata": {
  "language_info": {
   "codemirror_mode": {
    "name": "ipython",
    "version": 3
   },
   "file_extension": ".py",
   "mimetype": "text/x-python",
   "name": "python",
   "nbconvert_exporter": "python",
   "pygments_lexer": "ipython3",
   "version": "3.7.6-final"
  },
  "orig_nbformat": 2,
  "kernelspec": {
   "name": "python_defaultSpec_1599245490430",
   "display_name": "Python 3.7.6 64-bit ('base': conda)"
  }
 },
 "nbformat": 4,
 "nbformat_minor": 2,
 "cells": [
  {
   "cell_type": "code",
   "execution_count": null,
   "metadata": {},
   "outputs": [],
   "source": [
    "import geopandas as gpd\n",
    "import matplotlib.pyplot as plt\n",
    "from shapely.geometry import Point"
   ]
  },
  {
   "cell_type": "code",
   "execution_count": null,
   "metadata": {},
   "outputs": [],
   "source": [
    "neighbourhoods = gpd.read_file(\"../shapefiles/ONS/ons.shp\")\n",
    "neighbourhoods.head()"
   ]
  },
  {
   "cell_type": "code",
   "execution_count": null,
   "metadata": {},
   "outputs": [],
   "source": [
    "hospitals = gpd.read_file(\"../shapefiles/OttawaHospitals/Hospitals.shp\")\n",
    "hospitals.head()"
   ]
  },
  {
   "cell_type": "code",
   "execution_count": null,
   "metadata": {},
   "outputs": [],
   "source": [
    "# Best to use this CRS when dealing with distance\n",
    "qualicum = neighbourhoods[neighbourhoods.Name == \"Qualicum - Redwood Park\"].to_crs(epsg=3857)\n",
    "royal_hospital = hospitals[hospitals.NAME == \"Royal Ottawa Hospital\"].to_crs(epsg=3857)\n",
    "\n",
    "# Quick brute force approach. Not the most efficient code, but it gets the job done...\n",
    "# May take a few minutes to run\n",
    "closest_hospitals = []\n",
    "\n",
    "# Check each neighbourhood\n",
    "for n in neighbourhoods.Name:\n",
    "    closest = -1;\n",
    "    close_h = \"\"\n",
    "    \n",
    "    nx = neighbourhoods[neighbourhoods.Name == n].to_crs(epsg=3857)\n",
    "    \n",
    "    n_lon = nx.geometry.centroid.x.iloc[0]\n",
    "    n_lat = nx.geometry.centroid.y.iloc[0]\n",
    "    \n",
    "    nx = gpd.GeoSeries([Point(n_lon, n_lat)])\n",
    "            \n",
    "    # Check each hospital\n",
    "    for h in hospitals.NAME:\n",
    "        hx = hospitals[hospitals.NAME == h].to_crs(epsg=3857)\n",
    "        \n",
    "        h_lon = hx.geometry.centroid.x.iloc[0]\n",
    "        h_lat = hx.geometry.centroid.y.iloc[0]\n",
    "        \n",
    "        hx = gpd.GeoSeries([Point(h_lon, h_lat)])\n",
    "            \n",
    "        dist = hx.distance(nx)\n",
    "        \n",
    "        if(closest <= 0 or dist[0] <= closest):\n",
    "            closest = dist[0]\n",
    "            closest_h = h\n",
    "            \n",
    "    closest_hospitals.append([n, closest_h, round(closest/1000, 2)])\n",
    "\n",
    "h = {hospitals.NAME[0]: 'red',\n",
    "     hospitals.NAME[1]: 'blue',\n",
    "     hospitals.NAME[2]: 'black',\n",
    "     hospitals.NAME[3]: 'orange',\n",
    "     hospitals.NAME[4]: 'purple',\n",
    "     hospitals.NAME[5]: 'brown',\n",
    "     hospitals.NAME[6]: 'yellow',\n",
    "     hospitals.NAME[7]: 'green',\n",
    "     hospitals.NAME[8]: 'gray',\n",
    "     hospitals.NAME[9]: 'pink'}\n",
    "\n",
    "fig, ax = plt.subplots()\n",
    "neighbourhoods.plot(ax=ax, facecolor='gray');\n",
    "for ch in closest_hospitals:\n",
    "    nx = neighbourhoods[neighbourhoods.Name == ch[0]]\n",
    "    nx.plot(ax=ax, facecolor=h[ch[1]])\n",
    "plt.tight_layout();"
   ]
  }
 ]
}