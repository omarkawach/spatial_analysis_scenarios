{
 "metadata": {
  "language_info": {
   "codemirror_mode": {
    "name": "ipython",
    "version": 3
   },
   "file_extension": ".py",
   "mimetype": "text/x-python",
   "name": "python",
   "nbconvert_exporter": "python",
   "pygments_lexer": "ipython3",
   "version": 3
  },
  "orig_nbformat": 2
 },
 "nbformat": 4,
 "nbformat_minor": 2,
 "cells": [
  {
   "cell_type": "code",
   "execution_count": null,
   "metadata": {},
   "outputs": [],
   "source": [
    "import geopandas as gpd\n",
    "import numpy as np\n",
    "import matplotlib.pyplot as plt"
   ]
  },
  {
   "cell_type": "code",
   "execution_count": null,
   "metadata": {},
   "outputs": [],
   "source": [
    "neighbourhoods = gpd.read_file(\"../shapefiles/ONS/ons.shp\")\n",
    "neighbourhoods.head()"
   ]
  },
  {
   "cell_type": "code",
   "execution_count": null,
   "metadata": {},
   "outputs": [],
   "source": [
    "gdf = neighbourhoods[['geometry', 'POPEST', 'Name']]"
   ]
  },
  {
   "cell_type": "code",
   "execution_count": null,
   "metadata": {},
   "outputs": [],
   "source": [
    "gdf.plot(column = 'POPEST',\n",
    "         cmap = 'OrRd', \n",
    "         figsize=(20,10),\n",
    "         legend = True)"
   ]
  },
  {
   "cell_type": "code",
   "execution_count": null,
   "metadata": {},
   "outputs": [],
   "source": [
    "quart = np.percentile(gdf.POPEST, [25, 50, 75])"
   ]
  },
  {
   "cell_type": "code",
   "execution_count": null,
   "metadata": {},
   "outputs": [],
   "source": [
    "c = {'Q1': 'white',\n",
    "     'Q2': 'yellow',\n",
    "     'Q3': 'orange',\n",
    "     'Q4': 'red'}\n",
    "\n",
    "\n",
    "fig, ax = plt.subplots()\n",
    "neighbourhoods.plot(ax=ax, facecolor='gray');\n",
    "\n",
    "for index, row in gdf.iterrows():\n",
    "    data = gdf.iloc[index]\n",
    "    to_plot = gdf[gdf.Name == data.Name]\n",
    "    if(data.POPEST <= quart[0]):\n",
    "        to_plot.geometry.plot(ax=ax, facecolor=c['Q1'])\n",
    "    elif(data.POPEST <= quart[1]):\n",
    "        to_plot.plot(ax=ax, facecolor=c['Q2'])\n",
    "    elif(data.POPEST <= quart[2]):\n",
    "        to_plot.plot(ax=ax, facecolor=c['Q3'])\n",
    "    else:\n",
    "        to_plot.plot(ax=ax, facecolor=c['Q4'])\n",
    "        \n",
    "plt.tight_layout();"
   ]
  }
 ]
}